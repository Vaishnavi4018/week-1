{
  "nbformat": 4,
  "nbformat_minor": 0,
  "metadata": {
    "colab": {
      "provenance": [],
      "authorship_tag": "ABX9TyMKrJJ72/tTqRAMaV62Sf1+",
      "include_colab_link": true
    },
    "kernelspec": {
      "name": "python3",
      "display_name": "Python 3"
    },
    "language_info": {
      "name": "python"
    }
  },
  "cells": [
    {
      "cell_type": "markdown",
      "metadata": {
        "id": "view-in-github",
        "colab_type": "text"
      },
      "source": [
        "<a href=\"https://colab.research.google.com/github/Vaishnavi4018/week-1/blob/main/week1_exploration.ipynb\" target=\"_parent\"><img src=\"https://colab.research.google.com/assets/colab-badge.svg\" alt=\"Open In Colab\"/></a>"
      ]
    },
    {
      "cell_type": "code",
      "execution_count": null,
      "metadata": {
        "id": "pZ_ZUubmuGxB"
      },
      "outputs": [],
      "source": [
        "# Week 1 – Tree Species Image Dataset Exploration\n",
        "# Developed in Google Colab\n",
        "\n",
        "import os\n",
        "import matplotlib.pyplot as plt\n",
        "import cv2\n",
        "\n",
        "from google.colab import drive\n",
        "\n",
        "# Mount Google Drive\n",
        "drive.mount('/content/drive')\n",
        "\n",
        "# Update with your actual dataset path in Drive\n",
        "dataset_path = '/content/drive/MyDrive/TreeDataset'  # <-- change this if needed\n",
        "\n",
        "# Check if path exists\n",
        "if not os.path.exists(dataset_path):\n",
        "    raise Exception(\"Dataset path does not exist. Please check the path!\")\n",
        "\n",
        "# List all categories (tree species)\n",
        "categories = [d for d in os.listdir(dataset_path) if os.path.isdir(os.path.join(dataset_path, d))]\n",
        "print(\"Tree Species Categories Found:\", categories)\n",
        "\n",
        "# Display a few images from each category\n",
        "for category in categories[:3]:  # Limit to 3 categories\n",
        "    category_path = os.path.join(dataset_path, category)\n",
        "    image_files = [f for f in os.listdir(category_path) if f.endswith(('.jpg', '.png', '.jpeg'))]\n",
        "\n",
        "    print(f\"\\nCategory: {category}\")\n",
        "    for image_name in image_files[:3]:  # Display 3 images from each category\n",
        "        image_path = os.path.join(category_path, image_name)\n",
        "        img = cv2.imread(image_path)\n",
        "        if img is not None:\n",
        "            img = cv2.cvtColor(img, cv2.COLOR_BGR2RGB)\n",
        "            plt.figure(figsize=(4, 4))\n",
        "            plt.imshow(img)\n",
        "            plt.title(f\"{category} - {image_name}\")\n",
        "            plt.axis('off')\n",
        "            plt.show()\n",
        "        else:\n",
        "            print(f\"Could not read image: {image_name}\")\n"
      ]
    }
  ]
}